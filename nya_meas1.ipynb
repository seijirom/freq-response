{
 "cells": [
  {
   "cell_type": "code",
   "execution_count": 1,
   "metadata": {
    "collapsed": false,
    "scrolled": false
   },
   "outputs": [
    {
     "data": {
      "application/javascript": [
       "if(window['d3'] === undefined ||\n",
       "   window['Nyaplot'] === undefined){\n",
       "    var path = {\"d3\":\"https://cdnjs.cloudflare.com/ajax/libs/d3/3.5.5/d3.min\",\"downloadable\":\"http://cdn.rawgit.com/domitry/d3-downloadable/master/d3-downloadable\"};\n",
       "\n",
       "\n",
       "\n",
       "    var shim = {\"d3\":{\"exports\":\"d3\"},\"downloadable\":{\"exports\":\"downloadable\"}};\n",
       "\n",
       "    require.config({paths: path, shim:shim});\n",
       "\n",
       "\n",
       "require(['d3'], function(d3){window['d3']=d3;console.log('finished loading d3');require(['downloadable'], function(downloadable){window['downloadable']=downloadable;console.log('finished loading downloadable');\n",
       "\n",
       "\tvar script = d3.select(\"head\")\n",
       "\t    .append(\"script\")\n",
       "\t    .attr(\"src\", \"http://cdn.rawgit.com/domitry/Nyaplotjs/master/release/nyaplot.js\")\n",
       "\t    .attr(\"async\", true);\n",
       "\n",
       "\tscript[0][0].onload = script[0][0].onreadystatechange = function(){\n",
       "\n",
       "\n",
       "\t    var event = document.createEvent(\"HTMLEvents\");\n",
       "\t    event.initEvent(\"load_nyaplot\",false,false);\n",
       "\t    window.dispatchEvent(event);\n",
       "\t    console.log('Finished loading Nyaplotjs');\n",
       "\n",
       "\t};\n",
       "\n",
       "\n",
       "});});\n",
       "}\n"
      ],
      "text/plain": [
       "\"if(window['d3'] === undefined ||\\n   window['Nyaplot'] === undefined){\\n    var path = {\\\"d3\\\":\\\"https://cdnjs.cloudflare.com/ajax/libs/d3/3.5.5/d3.min\\\",\\\"downloadable\\\":\\\"http://cdn.rawgit.com/domitry/d3-downloadable/master/d3-downloadable\\\"};\\n\\n\\n\\n    var shim = {\\\"d3\\\":{\\\"exports\\\":\\\"d3\\\"},\\\"downloadable\\\":{\\\"exports\\\":\\\"downloadable\\\"}};\\n\\n    require.config({paths: path, shim:shim});\\n\\n\\nrequire(['d3'], function(d3){window['d3']=d3;console.log('finished loading d3');require(['downloadable'], function(downloadable){window['downloadable']=downloadable;console.log('finished loading downloadable');\\n\\n\\tvar script = d3.select(\\\"head\\\")\\n\\t    .append(\\\"script\\\")\\n\\t    .attr(\\\"src\\\", \\\"http://cdn.rawgit.com/domitry/Nyaplotjs/master/release/nyaplot.js\\\")\\n\\t    .attr(\\\"async\\\", true);\\n\\n\\tscript[0][0].onload = script[0][0].onreadystatechange = function(){\\n\\n\\n\\t    var event = document.createEvent(\\\"HTMLEvents\\\");\\n\\t    event.initEvent(\\\"load_nyaplot\\\",false,false);\\n\\t    window.dispatchEvent(event);\\n\\t    console.log('Finished loading Nyaplotjs');\\n\\n\\t};\\n\\n\\n});});\\n}\\n\""
      ]
     },
     "metadata": {},
     "output_type": "display_data"
    },
    {
     "name": "stdout",
     "output_type": "stream",
     "text": [
      "# Open connection with your Red Pitaya\n",
      "signal_str.length = 2778\n",
      "signal_str.min = -1.0873\n",
      "signal_str.max = 0.0\n",
      "# Close connection with Red Pitaya\n"
     ]
    },
    {
     "data": {
      "text/html": [
       "<div id='vis-a742ae94-d8cc-42d5-bc18-d079c8af525e'></div>\n",
       "<script>\n",
       "(function(){\n",
       "    var render = function(){\n",
       "        var model = {\"panes\":[{\"diagrams\":[{\"type\":\"line\",\"options\":{\"x\":\"data0\",\"y\":\"data1\"},\"data\":\"4ba83cab-241e-4af4-80ce-9de09c264abe\"}],\"options\":{\"zoom\":true,\"width\":700,\"xrange\":[0,299],\"yrange\":[-1.0873,0.0]}}],\"data\":{\"4ba83cab-241e-4af4-80ce-9de09c264abe\":[{\"data0\":0,\"data1\":0.0},{\"data0\":1,\"data1\":-1.04558},{\"data0\":2,\"data1\":-1.07426},{\"data0\":3,\"data1\":-1.06644},{\"data0\":4,\"data1\":-1.06905},{\"data0\":5,\"data1\":-1.06644},{\"data0\":6,\"data1\":-1.06644},{\"data0\":7,\"data1\":-1.05601},{\"data0\":8,\"data1\":-1.04819},{\"data0\":9,\"data1\":-1.04558},{\"data0\":10,\"data1\":-1.06905},{\"data0\":11,\"data1\":-1.06384},{\"data0\":12,\"data1\":-1.05862},{\"data0\":13,\"data1\":-1.07687},{\"data0\":14,\"data1\":-1.05862},{\"data0\":15,\"data1\":-1.07687},{\"data0\":16,\"data1\":-1.06384},{\"data0\":17,\"data1\":-1.05601},{\"data0\":18,\"data1\":-1.06905},{\"data0\":19,\"data1\":-1.08469},{\"data0\":20,\"data1\":-1.08209},{\"data0\":21,\"data1\":-1.06384},{\"data0\":22,\"data1\":-1.08469},{\"data0\":23,\"data1\":-1.06123},{\"data0\":24,\"data1\":-1.06644},{\"data0\":25,\"data1\":-1.06123},{\"data0\":26,\"data1\":-1.06384},{\"data0\":27,\"data1\":-1.05601},{\"data0\":28,\"data1\":-1.06123},{\"data0\":29,\"data1\":-1.05341},{\"data0\":30,\"data1\":-1.04819},{\"data0\":31,\"data1\":-1.06384},{\"data0\":32,\"data1\":-1.06384},{\"data0\":33,\"data1\":-1.07166},{\"data0\":34,\"data1\":-1.07166},{\"data0\":35,\"data1\":-1.06644},{\"data0\":36,\"data1\":-1.06644},{\"data0\":37,\"data1\":-1.06123},{\"data0\":38,\"data1\":-1.06384},{\"data0\":39,\"data1\":-1.06123},{\"data0\":40,\"data1\":-1.06384},{\"data0\":41,\"data1\":-1.06384},{\"data0\":42,\"data1\":-1.0508},{\"data0\":43,\"data1\":-1.06123},{\"data0\":44,\"data1\":-1.05341},{\"data0\":45,\"data1\":-1.08209},{\"data0\":46,\"data1\":-1.07948},{\"data0\":47,\"data1\":-1.06644},{\"data0\":48,\"data1\":-1.07687},{\"data0\":49,\"data1\":-1.04298},{\"data0\":50,\"data1\":-1.04558},{\"data0\":51,\"data1\":-1.06905},{\"data0\":52,\"data1\":-1.06644},{\"data0\":53,\"data1\":-1.08469},{\"data0\":54,\"data1\":-1.0873},{\"data0\":55,\"data1\":-1.07426},{\"data0\":56,\"data1\":-1.06905},{\"data0\":57,\"data1\":-1.07166},{\"data0\":58,\"data1\":-1.0873},{\"data0\":59,\"data1\":-1.08209},{\"data0\":60,\"data1\":-1.05341},{\"data0\":61,\"data1\":-1.06905},{\"data0\":62,\"data1\":-1.07166},{\"data0\":63,\"data1\":-1.07948},{\"data0\":64,\"data1\":-1.07426},{\"data0\":65,\"data1\":-1.07166},{\"data0\":66,\"data1\":-1.0873},{\"data0\":67,\"data1\":-1.06644},{\"data0\":68,\"data1\":-1.07166},{\"data0\":69,\"data1\":-1.06644},{\"data0\":70,\"data1\":-1.08209},{\"data0\":71,\"data1\":-1.07426},{\"data0\":72,\"data1\":-1.06905},{\"data0\":73,\"data1\":-1.06644},{\"data0\":74,\"data1\":-1.06644},{\"data0\":75,\"data1\":-1.06644},{\"data0\":76,\"data1\":-1.05601},{\"data0\":77,\"data1\":-1.07166},{\"data0\":78,\"data1\":-1.07948},{\"data0\":79,\"data1\":-1.06905},{\"data0\":80,\"data1\":-1.06644},{\"data0\":81,\"data1\":-1.06644},{\"data0\":82,\"data1\":-1.06123},{\"data0\":83,\"data1\":-1.06644},{\"data0\":84,\"data1\":-1.08209},{\"data0\":85,\"data1\":-1.07166},{\"data0\":86,\"data1\":-1.05862},{\"data0\":87,\"data1\":-1.06644},{\"data0\":88,\"data1\":-1.07166},{\"data0\":89,\"data1\":-1.06905},{\"data0\":90,\"data1\":-1.04819},{\"data0\":91,\"data1\":-1.06123},{\"data0\":92,\"data1\":-1.06644},{\"data0\":93,\"data1\":-1.06384},{\"data0\":94,\"data1\":-1.08209},{\"data0\":95,\"data1\":-1.05341},{\"data0\":96,\"data1\":-1.07687},{\"data0\":97,\"data1\":-1.06644},{\"data0\":98,\"data1\":-1.07948},{\"data0\":99,\"data1\":-1.05341},{\"data0\":100,\"data1\":-1.06644},{\"data0\":101,\"data1\":-1.0873},{\"data0\":102,\"data1\":-1.05341},{\"data0\":103,\"data1\":-1.05862},{\"data0\":104,\"data1\":-1.07166},{\"data0\":105,\"data1\":-1.0873},{\"data0\":106,\"data1\":-1.06123},{\"data0\":107,\"data1\":-1.07687},{\"data0\":108,\"data1\":-1.07166},{\"data0\":109,\"data1\":-1.07426},{\"data0\":110,\"data1\":-1.05862},{\"data0\":111,\"data1\":-1.05862},{\"data0\":112,\"data1\":-1.05601},{\"data0\":113,\"data1\":-1.07426},{\"data0\":114,\"data1\":-1.07166},{\"data0\":115,\"data1\":-1.06905},{\"data0\":116,\"data1\":-1.06644},{\"data0\":117,\"data1\":-1.04558},{\"data0\":118,\"data1\":-1.06123},{\"data0\":119,\"data1\":-1.05341},{\"data0\":120,\"data1\":-1.06644},{\"data0\":121,\"data1\":-1.06384},{\"data0\":122,\"data1\":-1.06123},{\"data0\":123,\"data1\":-1.06384},{\"data0\":124,\"data1\":-1.05341},{\"data0\":125,\"data1\":-1.05341},{\"data0\":126,\"data1\":-1.06905},{\"data0\":127,\"data1\":-1.05341},{\"data0\":128,\"data1\":-1.05341},{\"data0\":129,\"data1\":-1.04298},{\"data0\":130,\"data1\":-1.0508},{\"data0\":131,\"data1\":-1.04819},{\"data0\":132,\"data1\":-1.04558},{\"data0\":133,\"data1\":-1.06644},{\"data0\":134,\"data1\":-1.0508},{\"data0\":135,\"data1\":-1.04558},{\"data0\":136,\"data1\":-1.04298},{\"data0\":137,\"data1\":-1.04558},{\"data0\":138,\"data1\":-1.05341},{\"data0\":139,\"data1\":-1.06644},{\"data0\":140,\"data1\":-1.06384},{\"data0\":141,\"data1\":-1.03776},{\"data0\":142,\"data1\":-1.04298},{\"data0\":143,\"data1\":-1.03776},{\"data0\":144,\"data1\":-1.04298},{\"data0\":145,\"data1\":-1.05341},{\"data0\":146,\"data1\":-1.04558},{\"data0\":147,\"data1\":-1.0508},{\"data0\":148,\"data1\":-1.04819},{\"data0\":149,\"data1\":-1.02994},{\"data0\":150,\"data1\":-1.02212},{\"data0\":151,\"data1\":-1.04037},{\"data0\":152,\"data1\":-1.03515},{\"data0\":153,\"data1\":-1.03255},{\"data0\":154,\"data1\":-1.03776},{\"data0\":155,\"data1\":-1.03776},{\"data0\":156,\"data1\":-1.01951},{\"data0\":157,\"data1\":-1.02994},{\"data0\":158,\"data1\":-1.04819},{\"data0\":159,\"data1\":-1.03776},{\"data0\":160,\"data1\":-1.02733},{\"data0\":161,\"data1\":-1.01951},{\"data0\":162,\"data1\":-1.03776},{\"data0\":163,\"data1\":-1.01429},{\"data0\":164,\"data1\":-1.02733},{\"data0\":165,\"data1\":-1.02472},{\"data0\":166,\"data1\":-1.01951},{\"data0\":167,\"data1\":-1.02994},{\"data0\":168,\"data1\":-1.03255},{\"data0\":169,\"data1\":-1.01169},{\"data0\":170,\"data1\":-1.01169},{\"data0\":171,\"data1\":-1.03776},{\"data0\":172,\"data1\":-1.01169},{\"data0\":173,\"data1\":-1.00908},{\"data0\":174,\"data1\":-1.02212},{\"data0\":175,\"data1\":-1.04037},{\"data0\":176,\"data1\":-1.02212},{\"data0\":177,\"data1\":-1.02212},{\"data0\":178,\"data1\":-1.00908},{\"data0\":179,\"data1\":-1.01951},{\"data0\":180,\"data1\":-1.00647},{\"data0\":181,\"data1\":-1.0169},{\"data0\":182,\"data1\":-1.0169},{\"data0\":183,\"data1\":-1.00908},{\"data0\":184,\"data1\":-1.0169},{\"data0\":185,\"data1\":-1.02733},{\"data0\":186,\"data1\":-1.01429},{\"data0\":187,\"data1\":-0.996042},{\"data0\":188,\"data1\":-1.01429},{\"data0\":189,\"data1\":-1.00908},{\"data0\":190,\"data1\":-0.985612},{\"data0\":191,\"data1\":-1.00647},{\"data0\":192,\"data1\":-1.00908},{\"data0\":193,\"data1\":-1.00386},{\"data0\":194,\"data1\":-0.993434},{\"data0\":195,\"data1\":-1.00647},{\"data0\":196,\"data1\":-1.0169},{\"data0\":197,\"data1\":-1.01169},{\"data0\":198,\"data1\":-1.00126},{\"data0\":199,\"data1\":-0.996042},{\"data0\":200,\"data1\":-1.00647},{\"data0\":201,\"data1\":-0.998649},{\"data0\":202,\"data1\":-1.00908},{\"data0\":203,\"data1\":-0.990827},{\"data0\":204,\"data1\":-1.00908},{\"data0\":205,\"data1\":-0.993434},{\"data0\":206,\"data1\":-1.00386},{\"data0\":207,\"data1\":-0.97779},{\"data0\":208,\"data1\":-0.96736},{\"data0\":209,\"data1\":-0.964752},{\"data0\":210,\"data1\":-0.983005},{\"data0\":211,\"data1\":-0.993434},{\"data0\":212,\"data1\":-0.985612},{\"data0\":213,\"data1\":-0.975182},{\"data0\":214,\"data1\":-0.964752},{\"data0\":215,\"data1\":-0.993434},{\"data0\":216,\"data1\":-0.985612},{\"data0\":217,\"data1\":-0.97779},{\"data0\":218,\"data1\":-0.985612},{\"data0\":219,\"data1\":-0.972575},{\"data0\":220,\"data1\":-0.993434},{\"data0\":221,\"data1\":-0.964752},{\"data0\":222,\"data1\":-0.964752},{\"data0\":223,\"data1\":-0.97779},{\"data0\":224,\"data1\":-0.964752},{\"data0\":225,\"data1\":-0.954323},{\"data0\":226,\"data1\":-0.964752},{\"data0\":227,\"data1\":-0.96736},{\"data0\":228,\"data1\":-0.96736},{\"data0\":229,\"data1\":-0.980397},{\"data0\":230,\"data1\":-0.964752},{\"data0\":231,\"data1\":-0.962145},{\"data0\":232,\"data1\":-0.959538},{\"data0\":233,\"data1\":-0.975182},{\"data0\":234,\"data1\":-0.949108},{\"data0\":235,\"data1\":-0.972575},{\"data0\":236,\"data1\":-0.9465},{\"data0\":237,\"data1\":-0.951715},{\"data0\":238,\"data1\":-0.941285},{\"data0\":239,\"data1\":-0.9465},{\"data0\":240,\"data1\":-0.941285},{\"data0\":241,\"data1\":-0.959538},{\"data0\":242,\"data1\":-0.954323},{\"data0\":243,\"data1\":-0.9465},{\"data0\":244,\"data1\":-0.933463},{\"data0\":245,\"data1\":-0.936071},{\"data0\":246,\"data1\":-0.936071},{\"data0\":247,\"data1\":-0.933463},{\"data0\":248,\"data1\":-0.9465},{\"data0\":249,\"data1\":-0.936071},{\"data0\":250,\"data1\":-0.936071},{\"data0\":251,\"data1\":-0.949108},{\"data0\":252,\"data1\":-0.925641},{\"data0\":253,\"data1\":-0.930856},{\"data0\":254,\"data1\":-0.912604},{\"data0\":255,\"data1\":-0.928248},{\"data0\":256,\"data1\":-0.923033},{\"data0\":257,\"data1\":-0.920426},{\"data0\":258,\"data1\":-0.928248},{\"data0\":259,\"data1\":-0.928248},{\"data0\":260,\"data1\":-0.938678},{\"data0\":261,\"data1\":-0.920426},{\"data0\":262,\"data1\":-0.920426},{\"data0\":263,\"data1\":-0.933463},{\"data0\":264,\"data1\":-0.917818},{\"data0\":265,\"data1\":-0.920426},{\"data0\":266,\"data1\":-0.925641},{\"data0\":267,\"data1\":-0.915211},{\"data0\":268,\"data1\":-0.915211},{\"data0\":269,\"data1\":-0.925641},{\"data0\":270,\"data1\":-0.891744},{\"data0\":271,\"data1\":-0.915211},{\"data0\":272,\"data1\":-0.909996},{\"data0\":273,\"data1\":-0.907389},{\"data0\":274,\"data1\":-0.907389},{\"data0\":275,\"data1\":-0.894352},{\"data0\":276,\"data1\":-0.883922},{\"data0\":277,\"data1\":-0.904781},{\"data0\":278,\"data1\":-0.891744},{\"data0\":279,\"data1\":-0.868277},{\"data0\":280,\"data1\":-0.889137},{\"data0\":281,\"data1\":-0.889137},{\"data0\":282,\"data1\":-0.899566},{\"data0\":283,\"data1\":-0.907389},{\"data0\":284,\"data1\":-0.907389},{\"data0\":285,\"data1\":-0.881314},{\"data0\":286,\"data1\":-0.86567},{\"data0\":287,\"data1\":-0.873492},{\"data0\":288,\"data1\":-0.873492},{\"data0\":289,\"data1\":-0.894352},{\"data0\":290,\"data1\":-0.889137},{\"data0\":291,\"data1\":-0.86567},{\"data0\":292,\"data1\":-0.860455},{\"data0\":293,\"data1\":-0.876099},{\"data0\":294,\"data1\":-0.857847},{\"data0\":295,\"data1\":-0.876099},{\"data0\":296,\"data1\":-0.860455},{\"data0\":297,\"data1\":-0.863062},{\"data0\":298,\"data1\":-0.870885},{\"data0\":299,\"data1\":-0.878707}]},\"extension\":[]}\n",
       "        var id_name = '#vis-a742ae94-d8cc-42d5-bc18-d079c8af525e';\n",
       "        Nyaplot.core.parse(model, id_name);\n",
       "\n",
       "        require(['downloadable'], function(downloadable){\n",
       "          var svg = d3.select(id_name).select(\"svg\");\n",
       "\t  if(!svg.empty())\n",
       "\t    svg.call(downloadable().filename('fig'));\n",
       "\t});\n",
       "    };\n",
       "    if(window['Nyaplot']==undefined){\n",
       "        window.addEventListener('load_nyaplot', render, false);\n",
       "\treturn;\n",
       "    } else {\n",
       "       render();\n",
       "    }\n",
       "})();\n",
       "</script>\n"
      ],
      "text/plain": [
       "#<Nyaplot::Frame:0x922c38 @properties={:panes=>[#<Nyaplot::Plot:0x96da10 @properties={:diagrams=>[#<Nyaplot::Diagram:0x923328 @properties={:type=>:line, :options=>{:x=>\"data0\", :y=>\"data1\"}, :data=>\"4ba83cab-241e-4af4-80ce-9de09c264abe\"}, @xrange=[0, 299], @yrange=[-1.0873, 0.0]>], :options=>{:zoom=>true, :width=>700, :xrange=>[0, 299], :yrange=>[-1.0873, 0.0]}}>], :data=>{\"4ba83cab-241e-4af4-80ce-9de09c264abe\"=>#<Nyaplot::DataFrame:0x96ca80 @name=\"4ba83cab-241e-4af4-80ce-9de09c264abe\", @rows=[{:data0=>0, :data1=>0.0}, {:data0=>1, :data1=>-1.04558}, {:data0=>2, :data1=>-1.07426}, {:data0=>3, :data1=>-1.06644}, {:data0=>4, :data1=>-1.06905}, {:data0=>5, :data1=>-1.06644}, {:data0=>6, :data1=>-1.06644}, {:data0=>7, :data1=>-1.05601}, {:data0=>8, :data1=>-1.04819}, {:data0=>9, :data1=>-1.04558}, {:data0=>10, :data1=>-1.06905}, {:data0=>11, :data1=>-1.06384}, {:data0=>12, :data1=>-1.05862}, {:data0=>13, :data1=>-1.07687}, {:data0=>14, :data1=>-1.05862}, {:data0=>15, :data1=>-1.07687}, {:data0=>16, :data1=>-1.06384}, {:data0=>17, :data1=>-1.05601}, {:data0=>18, :data1=>-1.06905}, {:data0=>19, :data1=>-1.08469}, {:data0=>20, :data1=>-1.08209}, {:data0=>21, :data1=>-1.06384}, {:data0=>22, :data1=>-1.08469}, {:data0=>23, :data1=>-1.06123}, {:data0=>24, :data1=>-1.06644}, {:data0=>25, :data1=>-1.06123}, {:data0=>26, :data1=>-1.06384}, {:data0=>27, :data1=>-1.05601}, {:data0=>28, :data1=>-1.06123}, {:data0=>29, :data1=>-1.05341}, {:data0=>30, :data1=>-1.04819}, {:data0=>31, :data1=>-1.06384}, {:data0=>32, :data1=>-1.06384}, {:data0=>33, :data1=>-1.07166}, {:data0=>34, :data1=>-1.07166}, {:data0=>35, :data1=>-1.06644}, {:data0=>36, :data1=>-1.06644}, {:data0=>37, :data1=>-1.06123}, {:data0=>38, :data1=>-1.06384}, {:data0=>39, :data1=>-1.06123}, {:data0=>40, :data1=>-1.06384}, {:data0=>41, :data1=>-1.06384}, {:data0=>42, :data1=>-1.0508}, {:data0=>43, :data1=>-1.06123}, {:data0=>44, :data1=>-1.05341}, {:data0=>45, :data1=>-1.08209}, {:data0=>46, :data1=>-1.07948}, {:data0=>47, :data1=>-1.06644}, {:data0=>48, :data1=>-1.07687}, {:data0=>49, :data1=>-1.04298}, {:data0=>50, :data1=>-1.04558}, {:data0=>51, :data1=>-1.06905}, {:data0=>52, :data1=>-1.06644}, {:data0=>53, :data1=>-1.08469}, {:data0=>54, :data1=>-1.0873}, {:data0=>55, :data1=>-1.07426}, {:data0=>56, :data1=>-1.06905}, {:data0=>57, :data1=>-1.07166}, {:data0=>58, :data1=>-1.0873}, {:data0=>59, :data1=>-1.08209}, {:data0=>60, :data1=>-1.05341}, {:data0=>61, :data1=>-1.06905}, {:data0=>62, :data1=>-1.07166}, {:data0=>63, :data1=>-1.07948}, {:data0=>64, :data1=>-1.07426}, {:data0=>65, :data1=>-1.07166}, {:data0=>66, :data1=>-1.0873}, {:data0=>67, :data1=>-1.06644}, {:data0=>68, :data1=>-1.07166}, {:data0=>69, :data1=>-1.06644}, {:data0=>70, :data1=>-1.08209}, {:data0=>71, :data1=>-1.07426}, {:data0=>72, :data1=>-1.06905}, {:data0=>73, :data1=>-1.06644}, {:data0=>74, :data1=>-1.06644}, {:data0=>75, :data1=>-1.06644}, {:data0=>76, :data1=>-1.05601}, {:data0=>77, :data1=>-1.07166}, {:data0=>78, :data1=>-1.07948}, {:data0=>79, :data1=>-1.06905}, {:data0=>80, :data1=>-1.06644}, {:data0=>81, :data1=>-1.06644}, {:data0=>82, :data1=>-1.06123}, {:data0=>83, :data1=>-1.06644}, {:data0=>84, :data1=>-1.08209}, {:data0=>85, :data1=>-1.07166}, {:data0=>86, :data1=>-1.05862}, {:data0=>87, :data1=>-1.06644}, {:data0=>88, :data1=>-1.07166}, {:data0=>89, :data1=>-1.06905}, {:data0=>90, :data1=>-1.04819}, {:data0=>91, :data1=>-1.06123}, {:data0=>92, :data1=>-1.06644}, {:data0=>93, :data1=>-1.06384}, {:data0=>94, :data1=>-1.08209}, {:data0=>95, :data1=>-1.05341}, {:data0=>96, :data1=>-1.07687}, {:data0=>97, :data1=>-1.06644}, {:data0=>98, :data1=>-1.07948}, {:data0=>99, :data1=>-1.05341}, {:data0=>100, :data1=>-1.06644}, {:data0=>101, :data1=>-1.0873}, {:data0=>102, :data1=>-1.05341}, {:data0=>103, :data1=>-1.05862}, {:data0=>104, :data1=>-1.07166}, {:data0=>105, :data1=>-1.0873}, {:data0=>106, :data1=>-1.06123}, {:data0=>107, :data1=>-1.07687}, {:data0=>108, :data1=>-1.07166}, {:data0=>109, :data1=>-1.07426}, {:data0=>110, :data1=>-1.05862}, {:data0=>111, :data1=>-1.05862}, {:data0=>112, :data1=>-1.05601}, {:data0=>113, :data1=>-1.07426}, {:data0=>114, :data1=>-1.07166}, {:data0=>115, :data1=>-1.06905}, {:data0=>116, :data1=>-1.06644}, {:data0=>117, :data1=>-1.04558}, {:data0=>118, :data1=>-1.06123}, {:data0=>119, :data1=>-1.05341}, {:data0=>120, :data1=>-1.06644}, {:data0=>121, :data1=>-1.06384}, {:data0=>122, :data1=>-1.06123}, {:data0=>123, :data1=>-1.06384}, {:data0=>124, :data1=>-1.05341}, {:data0=>125, :data1=>-1.05341}, {:data0=>126, :data1=>-1.06905}, {:data0=>127, :data1=>-1.05341}, {:data0=>128, :data1=>-1.05341}, {:data0=>129, :data1=>-1.04298}, {:data0=>130, :data1=>-1.0508}, {:data0=>131, :data1=>-1.04819}, {:data0=>132, :data1=>-1.04558}, {:data0=>133, :data1=>-1.06644}, {:data0=>134, :data1=>-1.0508}, {:data0=>135, :data1=>-1.04558}, {:data0=>136, :data1=>-1.04298}, {:data0=>137, :data1=>-1.04558}, {:data0=>138, :data1=>-1.05341}, {:data0=>139, :data1=>-1.06644}, {:data0=>140, :data1=>-1.06384}, {:data0=>141, :data1=>-1.03776}, {:data0=>142, :data1=>-1.04298}, {:data0=>143, :data1=>-1.03776}, {:data0=>144, :data1=>-1.04298}, {:data0=>145, :data1=>-1.05341}, {:data0=>146, :data1=>-1.04558}, {:data0=>147, :data1=>-1.0508}, {:data0=>148, :data1=>-1.04819}, {:data0=>149, :data1=>-1.02994}, {:data0=>150, :data1=>-1.02212}, {:data0=>151, :data1=>-1.04037}, {:data0=>152, :data1=>-1.03515}, {:data0=>153, :data1=>-1.03255}, {:data0=>154, :data1=>-1.03776}, {:data0=>155, :data1=>-1.03776}, {:data0=>156, :data1=>-1.01951}, {:data0=>157, :data1=>-1.02994}, {:data0=>158, :data1=>-1.04819}, {:data0=>159, :data1=>-1.03776}, {:data0=>160, :data1=>-1.02733}, {:data0=>161, :data1=>-1.01951}, {:data0=>162, :data1=>-1.03776}, {:data0=>163, :data1=>-1.01429}, {:data0=>164, :data1=>-1.02733}, {:data0=>165, :data1=>-1.02472}, {:data0=>166, :data1=>-1.01951}, {:data0=>167, :data1=>-1.02994}, {:data0=>168, :data1=>-1.03255}, {:data0=>169, :data1=>-1.01169}, {:data0=>170, :data1=>-1.01169}, {:data0=>171, :data1=>-1.03776}, {:data0=>172, :data1=>-1.01169}, {:data0=>173, :data1=>-1.00908}, {:data0=>174, :data1=>-1.02212}, {:data0=>175, :data1=>-1.04037}, {:data0=>176, :data1=>-1.02212}, {:data0=>177, :data1=>-1.02212}, {:data0=>178, :data1=>-1.00908}, {:data0=>179, :data1=>-1.01951}, {:data0=>180, :data1=>-1.00647}, {:data0=>181, :data1=>-1.0169}, {:data0=>182, :data1=>-1.0169}, {:data0=>183, :data1=>-1.00908}, {:data0=>184, :data1=>-1.0169}, {:data0=>185, :data1=>-1.02733}, {:data0=>186, :data1=>-1.01429}, {:data0=>187, :data1=>-0.996042}, {:data0=>188, :data1=>-1.01429}, {:data0=>189, :data1=>-1.00908}, {:data0=>190, :data1=>-0.985612}, {:data0=>191, :data1=>-1.00647}, {:data0=>192, :data1=>-1.00908}, {:data0=>193, :data1=>-1.00386}, {:data0=>194, :data1=>-0.993434}, {:data0=>195, :data1=>-1.00647}, {:data0=>196, :data1=>-1.0169}, {:data0=>197, :data1=>-1.01169}, {:data0=>198, :data1=>-1.00126}, {:data0=>199, :data1=>-0.996042}, {:data0=>200, :data1=>-1.00647}, {:data0=>201, :data1=>-0.998649}, {:data0=>202, :data1=>-1.00908}, {:data0=>203, :data1=>-0.990827}, {:data0=>204, :data1=>-1.00908}, {:data0=>205, :data1=>-0.993434}, {:data0=>206, :data1=>-1.00386}, {:data0=>207, :data1=>-0.97779}, {:data0=>208, :data1=>-0.96736}, {:data0=>209, :data1=>-0.964752}, {:data0=>210, :data1=>-0.983005}, {:data0=>211, :data1=>-0.993434}, {:data0=>212, :data1=>-0.985612}, {:data0=>213, :data1=>-0.975182}, {:data0=>214, :data1=>-0.964752}, {:data0=>215, :data1=>-0.993434}, {:data0=>216, :data1=>-0.985612}, {:data0=>217, :data1=>-0.97779}, {:data0=>218, :data1=>-0.985612}, {:data0=>219, :data1=>-0.972575}, {:data0=>220, :data1=>-0.993434}, {:data0=>221, :data1=>-0.964752}, {:data0=>222, :data1=>-0.964752}, {:data0=>223, :data1=>-0.97779}, {:data0=>224, :data1=>-0.964752}, {:data0=>225, :data1=>-0.954323}, {:data0=>226, :data1=>-0.964752}, {:data0=>227, :data1=>-0.96736}, {:data0=>228, :data1=>-0.96736}, {:data0=>229, :data1=>-0.980397}, {:data0=>230, :data1=>-0.964752}, {:data0=>231, :data1=>-0.962145}, {:data0=>232, :data1=>-0.959538}, {:data0=>233, :data1=>-0.975182}, {:data0=>234, :data1=>-0.949108}, {:data0=>235, :data1=>-0.972575}, {:data0=>236, :data1=>-0.9465}, {:data0=>237, :data1=>-0.951715}, {:data0=>238, :data1=>-0.941285}, {:data0=>239, :data1=>-0.9465}, {:data0=>240, :data1=>-0.941285}, {:data0=>241, :data1=>-0.959538}, {:data0=>242, :data1=>-0.954323}, {:data0=>243, :data1=>-0.9465}, {:data0=>244, :data1=>-0.933463}, {:data0=>245, :data1=>-0.936071}, {:data0=>246, :data1=>-0.936071}, {:data0=>247, :data1=>-0.933463}, {:data0=>248, :data1=>-0.9465}, {:data0=>249, :data1=>-0.936071}, {:data0=>250, :data1=>-0.936071}, {:data0=>251, :data1=>-0.949108}, {:data0=>252, :data1=>-0.925641}, {:data0=>253, :data1=>-0.930856}, {:data0=>254, :data1=>-0.912604}, {:data0=>255, :data1=>-0.928248}, {:data0=>256, :data1=>-0.923033}, {:data0=>257, :data1=>-0.920426}, {:data0=>258, :data1=>-0.928248}, {:data0=>259, :data1=>-0.928248}, {:data0=>260, :data1=>-0.938678}, {:data0=>261, :data1=>-0.920426}, {:data0=>262, :data1=>-0.920426}, {:data0=>263, :data1=>-0.933463}, {:data0=>264, :data1=>-0.917818}, {:data0=>265, :data1=>-0.920426}, {:data0=>266, :data1=>-0.925641}, {:data0=>267, :data1=>-0.915211}, {:data0=>268, :data1=>-0.915211}, {:data0=>269, :data1=>-0.925641}, {:data0=>270, :data1=>-0.891744}, {:data0=>271, :data1=>-0.915211}, {:data0=>272, :data1=>-0.909996}, {:data0=>273, :data1=>-0.907389}, {:data0=>274, :data1=>-0.907389}, {:data0=>275, :data1=>-0.894352}, {:data0=>276, :data1=>-0.883922}, {:data0=>277, :data1=>-0.904781}, {:data0=>278, :data1=>-0.891744}, {:data0=>279, :data1=>-0.868277}, {:data0=>280, :data1=>-0.889137}, {:data0=>281, :data1=>-0.889137}, {:data0=>282, :data1=>-0.899566}, {:data0=>283, :data1=>-0.907389}, {:data0=>284, :data1=>-0.907389}, {:data0=>285, :data1=>-0.881314}, {:data0=>286, :data1=>-0.86567}, {:data0=>287, :data1=>-0.873492}, {:data0=>288, :data1=>-0.873492}, {:data0=>289, :data1=>-0.894352}, {:data0=>290, :data1=>-0.889137}, {:data0=>291, :data1=>-0.86567}, {:data0=>292, :data1=>-0.860455}, {:data0=>293, :data1=>-0.876099}, {:data0=>294, :data1=>-0.857847}, {:data0=>295, :data1=>-0.876099}, {:data0=>296, :data1=>-0.860455}, {:data0=>297, :data1=>-0.863062}, {:data0=>298, :data1=>-0.870885}, {:data0=>299, :data1=>-0.878707}]>}, :extension=>[]}>"
      ]
     },
     "metadata": {},
     "output_type": "display_data"
    }
   ],
   "source": [
    "require 'nyaplot'\n",
    "require 'socket'\n",
    "require './rp_socket'\n",
    "tcpipObj = RP.new '192.168.0.5'; puts '# Open connection with your Red Pitaya'\n",
    "tcpipObj.send 'ACQ:DEC 10'\n",
    "tcpipObj.send 'ACQ:SOUR1:GAIN HV'\n",
    "tcpipObj.send 'ACQ:TRIG:LEV 0'\n",
    "tcpipObj.send 'ACQ:TRIG:DLY 0'\n",
    "tcpipObj.send 'ACQ:START'\n",
    "tcpipObj.send 'ACQ:TRIG NOW'\n",
    "sleep 1\n",
    "# signal_str = tcpipObj.query 'ACQ:SOUR1:DATA?'\n",
    "ndata = 300                                                                                              \n",
    "signal_str = tcpipObj.query \"ACQ:SOUR1:DATA:OLD:N? #{ndata}\"                                             \n",
    "puts \"signal_str.length = #{signal_str.length}\"\n",
    "puts \"signal_str.min = #{signal_str[1..-2].split(',').map{|a|a.to_f}.min}\"\n",
    "puts \"signal_str.max = #{signal_str[1..-2].split(',').map{|a|a.to_f}.max}\"\n",
    "data=signal_str[1..-2].split(',').map{|a|a.to_f}\n",
    "f=File.open('data.txt','w')\n",
    "data.each_with_index{|y,x|  f.puts \"#{x},#{y}\"}\n",
    "f.close\n",
    "tcpipObj.close; puts '# Close connection with Red Pitaya'\n",
    "x=[]\n",
    "0.upto(data.size-1){|a| x.push a}\n",
    "# plot data\n",
    "plot = Nyaplot::Plot.new\n",
    "line = plot.add(:line, x, data)\n",
    "plot.show"
   ]
  }
 ],
 "metadata": {
  "kernelspec": {
   "display_name": "Ruby 2.1.5",
   "language": "ruby",
   "name": "ruby"
  },
  "language_info": {
   "file_extension": ".rb",
   "mimetype": "application/x-ruby",
   "name": "ruby",
   "version": "2.1.5"
  }
 },
 "nbformat": 4,
 "nbformat_minor": 0
}
